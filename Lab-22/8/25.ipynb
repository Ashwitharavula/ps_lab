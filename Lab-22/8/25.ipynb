{
  "nbformat": 4,
  "nbformat_minor": 0,
  "metadata": {
    "colab": {
      "provenance": [],
      "authorship_tag": "ABX9TyPsJLGqKhpqd8jNaaPJovQL",
      "include_colab_link": true
    },
    "kernelspec": {
      "name": "python3",
      "display_name": "Python 3"
    },
    "language_info": {
      "name": "python"
    }
  },
  "cells": [
    {
      "cell_type": "markdown",
      "metadata": {
        "id": "view-in-github",
        "colab_type": "text"
      },
      "source": [
        "<a href=\"https://colab.research.google.com/github/Ashwitharavula/ps_lab/blob/main/Lab-22/8/25.ipynb\" target=\"_parent\"><img src=\"https://colab.research.google.com/assets/colab-badge.svg\" alt=\"Open In Colab\"/></a>"
      ]
    },
    {
      "cell_type": "code",
      "execution_count": 8,
      "metadata": {
        "colab": {
          "base_uri": "https://localhost:8080/"
        },
        "id": "iZLMWnuv6KB3",
        "outputId": "e7306d5c-88cb-4b96-a5ba-4588d00d8ff5"
      },
      "outputs": [
        {
          "output_type": "stream",
          "name": "stdout",
          "text": [
            "data written successfully\n"
          ]
        }
      ],
      "source": [
        "#write text to file\n",
        "fp=open(\"example.txt\",\"w\")\n",
        "fp.write(\"Hello,B.Tech students!\\n\")\n",
        "fp.write(\"SR university\")\n",
        "fp.write(\" suresh kumar\\n\")\n",
        "#close file\n",
        "fp.close()\n",
        "print(\"data written successfully\")"
      ]
    },
    {
      "cell_type": "code",
      "source": [
        "#Reading from a file\n",
        "#open file in read mode\n",
        "file=open(\"example.txt\",\"r\")\n",
        "#read entire content\n",
        "content=file.read()\n",
        "print(\"file content:\\n\",content)\n",
        "#close file\n",
        "file.close()\n",
        "#read line by line\n",
        "file=open(\"example.txt\",\"r\")\n",
        "line1=file.readline()\n",
        "print(\"firstline:\",line1)\n",
        "line2=file.readline()\n",
        "print(\"secondline:\",line2)\n",
        "line3=file.readline()\n",
        "print(\"line:\",line3)\n",
        "file.close()\n",
        "\n"
      ],
      "metadata": {
        "colab": {
          "base_uri": "https://localhost:8080/"
        },
        "id": "qbU08MHU7aGz",
        "outputId": "6e7ae96b-275b-49d5-e594-1351745f38a6"
      },
      "execution_count": 5,
      "outputs": [
        {
          "output_type": "stream",
          "name": "stdout",
          "text": [
            "file content:\n",
            " Hello,B.Tech students!\n",
            "SR university suresh kumar\n"
          ]
        }
      ]
    },
    {
      "cell_type": "code",
      "source": [
        "#reading all lines into a list\n",
        "file=open(\"example.txt\",\"r\")\n",
        "lines=file.readlines()\n",
        "print(\"All Lines as list:\",lines)\n",
        "file.close()"
      ],
      "metadata": {
        "colab": {
          "base_uri": "https://localhost:8080/"
        },
        "id": "oKsPxOO5-stI",
        "outputId": "4dae60d8-308c-4e19-ed36-4312724f5768"
      },
      "execution_count": 6,
      "outputs": [
        {
          "output_type": "stream",
          "name": "stdout",
          "text": [
            "All Lines as list: ['Hello,B.Tech students!\\n', 'SR university suresh kumar']\n"
          ]
        }
      ]
    },
    {
      "cell_type": "markdown",
      "source": [],
      "metadata": {
        "id": "FGXcMLPK_pAL"
      }
    },
    {
      "cell_type": "code",
      "source": [
        "#appending data to an existing file\n",
        "file=open(\"example.txt\",\"a\")\n",
        "file.write(\"appending new data..\\n\")\n",
        "file.close()"
      ],
      "metadata": {
        "id": "qs0VrsxZ_YW2"
      },
      "execution_count": 10,
      "outputs": []
    },
    {
      "cell_type": "code",
      "source": [
        "#using with statement\n",
        "with open(\"example.txt\",\"r\")as fb:\n",
        "  data=fb.read()\n",
        "  print(data)"
      ],
      "metadata": {
        "colab": {
          "base_uri": "https://localhost:8080/"
        },
        "id": "Vz_TnkBWAlrl",
        "outputId": "ff897eb1-c555-42c5-d3b1-fbbdf6030e4f"
      },
      "execution_count": 11,
      "outputs": [
        {
          "output_type": "stream",
          "name": "stdout",
          "text": [
            "Hello,B.Tech students!\n",
            "SR university suresh kumar\n",
            "appending new data..\n",
            "appending new data..\n",
            "\n"
          ]
        }
      ]
    },
    {
      "cell_type": "code",
      "source": [
        "import csv\n",
        "with open(\"data.csv\",\"w\",newline='')as fp:\n",
        "  wr=csv.writer(fp)\n",
        "  wr.writerows([[\"Name\",\"age\",\"course\"],[\"aaa\",21,\"CSE\"],[\"bbb\",20,\"ECE\"]])\n",
        "with open(\"data.csv\",\"r\")as file:\n",
        "    re= csv.reader(file)\n",
        "    for row in re:\n",
        "      print(row)"
      ],
      "metadata": {
        "colab": {
          "base_uri": "https://localhost:8080/"
        },
        "id": "kYkenZPuBE_X",
        "outputId": "f2503b8f-6917-40e0-8d7e-f3eae7e3938e"
      },
      "execution_count": 19,
      "outputs": [
        {
          "output_type": "stream",
          "name": "stdout",
          "text": [
            "['Name', 'age', 'course']\n",
            "['aaa', '21', 'CSE']\n",
            "['bbb', '20', 'ECE']\n"
          ]
        }
      ]
    },
    {
      "cell_type": "code",
      "source": [
        "import numpy as np\n",
        "#1D array\n",
        "arr1=np.array([1,2,3,4])\n",
        "print(\"1D Array:\",arr1)\n",
        "#2D array\n",
        "arr2=np.array([[1,2,3],[4,5,6]])\n",
        "print(\"2D array:\\n\",arr2)\n",
        "#zeros array\n",
        "zeros_arr=np.zeros((3,3))\n",
        "print(\"zeros array:\\n\",zeros_arr)\n",
        "#ones array\n",
        "ones_arr=np.ones((2,4))\n",
        "print(\"ones array:\\n\",ones_arr)\n",
        "#range of numbers\n",
        "range_arr=np.arange(0,10,2)\n",
        "print(\"range array:\\n\",range_arr)\n",
        "#random array\n",
        "rand_arr=np.random.rand(2,3)\n",
        "print(\"random array:\\n\",rand_arr)"
      ],
      "metadata": {
        "colab": {
          "base_uri": "https://localhost:8080/"
        },
        "id": "nA-k8r2RD7_8",
        "outputId": "38495f71-9863-4dbf-8cfd-f2df10eeb668"
      },
      "execution_count": 21,
      "outputs": [
        {
          "output_type": "stream",
          "name": "stdout",
          "text": [
            "1D Array: [1 2 3 4]\n",
            "2D array:\n",
            " [[1 2 3]\n",
            " [4 5 6]]\n",
            "zeros array:\n",
            " [[0. 0. 0.]\n",
            " [0. 0. 0.]\n",
            " [0. 0. 0.]]\n",
            "ones array:\n",
            " [[1. 1. 1. 1.]\n",
            " [1. 1. 1. 1.]]\n",
            "range array:\n",
            " [0 2 4 6 8]\n",
            "random array:\n",
            " [[0.69581525 0.84154846 0.38662483]\n",
            " [0.63006064 0.87548736 0.24609044]]\n"
          ]
        }
      ]
    },
    {
      "cell_type": "code",
      "source": [
        "arr=np.array([[1,2,3],[4,5,6]])\n",
        "print(\"Shape:\",arr.shape)#(rows,columns)\n",
        "print(\"dimension:\",arr.ndim)#2D Array\n",
        "print(\"data type:\",arr.dtype)#int64 or float64\n",
        "print(\"Size:\",arr.size)#total elements\n",
        "print(\"item size:\",arr.itemsize)#bytes per element"
      ],
      "metadata": {
        "colab": {
          "base_uri": "https://localhost:8080/"
        },
        "id": "ZhvDTI4OG8j6",
        "outputId": "86fc59b5-5b6e-4bb9-89fd-73ef2214be16"
      },
      "execution_count": 23,
      "outputs": [
        {
          "output_type": "stream",
          "name": "stdout",
          "text": [
            "Shape: (2, 3)\n",
            "dimension: 2\n",
            "data type: int64\n",
            "Size: 6\n",
            "item size: 8\n"
          ]
        }
      ]
    },
    {
      "cell_type": "code",
      "source": [
        "a=np.array([10,20,30,40,50])\n",
        "print(\"first element:\",a[0])\n",
        "print(\"last element:\",a[-1])\n",
        "print(\"slice[1:4]:\",a[1:4])\n",
        "print(\"every second element:\",a[::2])\n",
        "#2D indexing\n",
        "arr2=np.array([[1,2,3],[4,5,6]])\n",
        "print(\"element at r1 col 2:\",arr2[0,1])\n",
        "print(\"second row\",arr2[1,:])\n",
        "print(\"second column:\",arr2[:,1])"
      ],
      "metadata": {
        "colab": {
          "base_uri": "https://localhost:8080/"
        },
        "id": "eGN6wXt9K2ug",
        "outputId": "268b28e6-d8b5-4537-8e00-3770f70be53f"
      },
      "execution_count": 24,
      "outputs": [
        {
          "output_type": "stream",
          "name": "stdout",
          "text": [
            "first element: 10\n",
            "last element: 50\n",
            "slice[1:4]: [20 30 40]\n",
            "every second element: [10 30 50]\n",
            "element at r1 col 2: 2\n",
            "second row [4 5 6]\n",
            "second column: [2 5]\n"
          ]
        }
      ]
    }
  ]
}