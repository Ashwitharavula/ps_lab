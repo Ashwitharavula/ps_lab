{
  "nbformat": 4,
  "nbformat_minor": 0,
  "metadata": {
    "colab": {
      "provenance": [],
      "authorship_tag": "ABX9TyO+/O47PqqeFC39akcF6y5C",
      "include_colab_link": true
    },
    "kernelspec": {
      "name": "python3",
      "display_name": "Python 3"
    },
    "language_info": {
      "name": "python"
    }
  },
  "cells": [
    {
      "cell_type": "markdown",
      "metadata": {
        "id": "view-in-github",
        "colab_type": "text"
      },
      "source": [
        "<a href=\"https://colab.research.google.com/github/Ashwitharavula/ps_lab/blob/main/Untitled50.ipynb\" target=\"_parent\"><img src=\"https://colab.research.google.com/assets/colab-badge.svg\" alt=\"Open In Colab\"/></a>"
      ]
    },
    {
      "cell_type": "code",
      "execution_count": 7,
      "metadata": {
        "colab": {
          "base_uri": "https://localhost:8080/"
        },
        "id": "IcXxszQ-HHY7",
        "outputId": "ebd21258-7e50-4872-d4e6-a0e0ca2e38db"
      },
      "outputs": [
        {
          "output_type": "stream",
          "name": "stdout",
          "text": [
            "    Name   Age  Marks\n",
            "0   Ravi  25.0   85.0\n",
            "1   Neha   NaN   90.0\n",
            "2  kiran  30.0    NaN\n",
            "3   sita  28.0   92.0\n",
            "    Name    Age  Marks\n",
            "0  False  False  False\n",
            "1  False   True  False\n",
            "2  False  False   True\n",
            "3  False  False  False\n"
          ]
        }
      ],
      "source": [
        "import pandas as pd\n",
        "import numpy as np\n",
        "data={\n",
        "    'Name':['Ravi','Neha','kiran','sita'],\n",
        "    'Age':[25,np.nan,30,28],\n",
        "    'Marks':[85,90,np.nan,92]\n",
        "}\n",
        "df=pd.DataFrame(data)\n",
        "print(df)\n",
        "print(df.isnull())"
      ]
    },
    {
      "cell_type": "code",
      "source": [
        "df_dropped=df.dropna()\n",
        "print(df_dropped)"
      ],
      "metadata": {
        "colab": {
          "base_uri": "https://localhost:8080/"
        },
        "id": "usI5_BkNHNAk",
        "outputId": "3cb5e0da-226f-4ff7-b93b-20d2802a815c"
      },
      "execution_count": 2,
      "outputs": [
        {
          "output_type": "stream",
          "name": "stdout",
          "text": [
            "   Name   age  marks\n",
            "0  Ravi  25.0   85.0\n",
            "3  sita  28.0   92.0\n"
          ]
        }
      ]
    },
    {
      "cell_type": "code",
      "source": [
        "df_filled=df.fillna(0)\n",
        "print(df_filled)\n",
        "df['Age']=df['Age'].fillna(df['Age'].mean())\n",
        "df['Marks']=df['Marks'].fillna(df['Marks'].mean())\n",
        "\n",
        "print(df)"
      ],
      "metadata": {
        "colab": {
          "base_uri": "https://localhost:8080/"
        },
        "id": "c6Yn8XjYKFdk",
        "outputId": "e60eb46f-4346-4363-90f6-e677a0da7194"
      },
      "execution_count": 8,
      "outputs": [
        {
          "output_type": "stream",
          "name": "stdout",
          "text": [
            "    Name   Age  Marks\n",
            "0   Ravi  25.0   85.0\n",
            "1   Neha   0.0   90.0\n",
            "2  kiran  30.0    0.0\n",
            "3   sita  28.0   92.0\n",
            "    Name        Age  Marks\n",
            "0   Ravi  25.000000   85.0\n",
            "1   Neha  27.666667   90.0\n",
            "2  kiran  30.000000   89.0\n",
            "3   sita  28.000000   92.0\n"
          ]
        }
      ]
    },
    {
      "cell_type": "code",
      "source": [
        "import pandas as pd\n",
        "import numpy as np\n",
        "data={\n",
        "    'Name':['Ravi','Neha','kiran','sita'],\n",
        "    'age':[25,np.nan,30,28],\n",
        "    'marks':[85,90,np.nan,92]\n",
        "}\n",
        "df=pd.DataFrame(data)\n",
        "print(df)\n",
        "df_no_dup=df.drop_duplicates()\n",
        "print(df_no_dup)"
      ],
      "metadata": {
        "colab": {
          "base_uri": "https://localhost:8080/"
        },
        "id": "NNFDCCB2KqsH",
        "outputId": "d871c3bd-82e1-40c3-86e5-6c90b615c398"
      },
      "execution_count": 9,
      "outputs": [
        {
          "output_type": "stream",
          "name": "stdout",
          "text": [
            "    Name   age  marks\n",
            "0   Ravi  25.0   85.0\n",
            "1   Neha   NaN   90.0\n",
            "2  kiran  30.0    NaN\n",
            "3   sita  28.0   92.0\n",
            "    Name   age  marks\n",
            "0   Ravi  25.0   85.0\n",
            "1   Neha   NaN   90.0\n",
            "2  kiran  30.0    NaN\n",
            "3   sita  28.0   92.0\n"
          ]
        }
      ]
    },
    {
      "cell_type": "code",
      "source": [
        "data = {\n",
        "'ID': ['1', '2', '3', '4'],\n",
        "'Marks': ['85', '90', '78', '92']\n",
        "}\n",
        "df = pd.DataFrame(data)\n",
        "print(\"Original Data Types:\")\n",
        "print(df.dtypes)\n",
        "# Convert to numeric\n",
        "df['ID'] = pd.to_numeric(df['ID'])\n",
        "df['Marks'] = pd.to_numeric(df['Marks'])\n",
        "print(\"\\nAfter Conversion:\")\n",
        "print(df.dtypes)"
      ],
      "metadata": {
        "colab": {
          "base_uri": "https://localhost:8080/"
        },
        "id": "2oNo3EjXK4Y1",
        "outputId": "954c6e08-8652-4a0a-b1f3-618cda8734be"
      },
      "execution_count": 10,
      "outputs": [
        {
          "output_type": "stream",
          "name": "stdout",
          "text": [
            "Original Data Types:\n",
            "ID       object\n",
            "Marks    object\n",
            "dtype: object\n",
            "\n",
            "After Conversion:\n",
            "ID       int64\n",
            "Marks    int64\n",
            "dtype: object\n"
          ]
        }
      ]
    },
    {
      "cell_type": "code",
      "source": [
        "import pandas as pd\n",
        "students=pd.DataFrame({\n",
        "    'Student_ID':[101,102,103,104],\n",
        "    'Name':['Ravi','Neha','Kiran','Sita']\n",
        "})\n",
        "#Marks Data\n",
        "marks=pd.DataFrame({\n",
        "    'Student_ID':[101,102,103,105],\n",
        "    'Marks':[85,90,78,88]\n",
        "})\n",
        "merged_df=pd.merge(students,marks,on='Student_ID')\n",
        "print(merged_df)"
      ],
      "metadata": {
        "colab": {
          "base_uri": "https://localhost:8080/"
        },
        "id": "UnV5lIaaQB9I",
        "outputId": "173c0925-f419-4792-b99f-10f7d6e3aad6"
      },
      "execution_count": 14,
      "outputs": [
        {
          "output_type": "stream",
          "name": "stdout",
          "text": [
            "   Student_ID   Name  Marks\n",
            "0         101   Ravi     85\n",
            "1         102   Neha     90\n",
            "2         103  Kiran     78\n"
          ]
        }
      ]
    }
  ]
}